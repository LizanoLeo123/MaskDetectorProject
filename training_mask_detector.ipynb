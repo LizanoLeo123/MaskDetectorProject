{
 "cells": [
  {
   "cell_type": "code",
   "execution_count": 2,
   "metadata": {},
   "outputs": [
    {
     "name": "stdout",
     "output_type": "stream",
     "text": [
      "A\n"
     ]
    }
   ],
   "source": [
    "from tensorflow.keras.preprocessing.image import ImageDataGenerator\n",
    "from tensorflow.keras.applications import MobileNetV2\n",
    "from tensorflow.keras.layers import AveragePooling2D\n",
    "from tensorflow.keras.layers import Dropout\n",
    "from tensorflow.keras.layers import Flatten\n",
    "from tensorflow.keras.layers import Dense\n",
    "from tensorflow.keras.layers import Input\n",
    "from tensorflow.keras.models import Model\n",
    "from tensorflow.keras.optimizers import Adam\n",
    "from tensorflow.keras.applications.mobilenet_v2 import preprocess_input\n",
    "from tensorflow.keras.preprocessing.image import img_to_array\n",
    "from tensorflow.keras.preprocessing.image import load_img\n",
    "from tensorflow.keras.utils import to_categorical\n",
    "from sklearn.preprocessing import LabelBinarizer\n",
    "from sklearn.model_selection import train_test_split\n",
    "from sklearn.metrics import classification_report\n",
    "import sys\n",
    "sys.path.insert(0, './imutils')\n",
    "import paths\n",
    "import matplotlib.pyplot as plt\n",
    "import numpy as np\n",
    "import argparse\n",
    "import os\n",
    "\n",
    "print(\"A\")\n",
    "# Command line arguments\n",
    "# construct the argument parser and parse the arguments\n",
    "# ap = argparse.ArgumentParser()\n",
    "# ap.add_argument(\"-d\", \"--dataset\", required=True,\n",
    "#                 help=\"path to input dataset\")\n",
    "# ap.add_argument(\"-p\", \"--plot\", type=str, default=\"plot.png\",\n",
    "#                 help=\"path to output loss/accuracy plot\")\n",
    "# ap.add_argument(\"-m\", \"--model\", type=str,\n",
    "#                 default=\"mask_detector.model\",\n",
    "#                 help=\"path to output face mask detector model\")\n",
    "# args = vars(ap.parse_args())\n",
    "\n",
    "# # initialize the initial learning rate, number of epochs to train for,\n",
    "# # and batch size\n",
    "# INIT_LR = 1e-4\n",
    "# EPOCHS = 20\n",
    "# BS = 32\n",
    "\n",
    "# # grab the list of images in our dataset directory, then initialize\n",
    "# # the list of data (i.e., images) and class images\n",
    "# print(\"[INFO] loading images...\")\n",
    "# imagePaths = list(paths.list_images(args[\"dataset\"]))\n",
    "# data = []\n",
    "# labels = []\n",
    "# # loop over the image paths\n",
    "# for imagePath in imagePaths:\n",
    "#     # extract the class label from the filename\n",
    "#     label = imagePath.split(os.path.sep)[-2]\n",
    "#     # load the input image (224x224) and preprocess it\n",
    "#     image = load_img(imagePath, target_size=(224, 224))\n",
    "#     image = img_to_array(image)\n",
    "#     image = preprocess_input(image)\n",
    "#     # update the data and labels lists, respectively\n",
    "#     data.append(image)\n",
    "#     labels.append(label)\n",
    "# # convert the data and labels to NumPy arrays\n",
    "# data = np.array(data, dtype=\"float32\")\n",
    "# labels = np.array(labels)"
   ]
  }
 ],
 "metadata": {
  "kernelspec": {
   "display_name": "Python 3.7 (tensorflow)",
   "language": "python",
   "name": "tensorflow"
  },
  "language_info": {
   "codemirror_mode": {
    "name": "ipython",
    "version": 3
   },
   "file_extension": ".py",
   "mimetype": "text/x-python",
   "name": "python",
   "nbconvert_exporter": "python",
   "pygments_lexer": "ipython3",
   "version": "3.7.9"
  }
 },
 "nbformat": 4,
 "nbformat_minor": 4
}
