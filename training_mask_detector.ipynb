{
 "cells": [
  {
   "cell_type": "code",
   "execution_count": 1,
   "metadata": {},
   "outputs": [],
   "source": [
    "from tensorflow.keras.preprocessing.image import ImageDataGenerator\n",
    "from tensorflow.keras.applications import MobileNetV2\n",
    "from tensorflow.keras.layers import AveragePooling2D\n",
    "from tensorflow.keras.layers import Dropout\n",
    "from tensorflow.keras.layers import Flatten\n",
    "from tensorflow.keras.layers import Dense\n",
    "from tensorflow.keras.layers import Input\n",
    "from tensorflow.keras.models import Model\n",
    "from tensorflow.keras.optimizers import Adam\n",
    "from tensorflow.keras.applications.mobilenet_v2 import preprocess_input\n",
    "from tensorflow.keras.preprocessing.image import img_to_array\n",
    "from tensorflow.keras.preprocessing.image import load_img\n",
    "from tensorflow.keras.utils import to_categorical\n",
    "from sklearn.preprocessing import LabelBinarizer\n",
    "from sklearn.model_selection import train_test_split\n",
    "from sklearn.metrics import classification_report\n",
    "import sys\n",
    "sys.path.insert(0, './imutils')\n",
    "import paths\n",
    "import matplotlib.pyplot as plt\n",
    "import numpy as np\n",
    "import argparse\n",
    "import os"
   ]
  },
  {
   "cell_type": "code",
   "execution_count": 20,
   "metadata": {
    "scrolled": true
   },
   "outputs": [],
   "source": [
    "# construct the argument parser and parse the arguments\n",
    "ap = argparse.ArgumentParser()\n",
    "ap.add_argument(\"-d\", \"--dataset\", required=False, default=\"dataset/\", help=\"path to input dataset\")\n",
    "ap.add_argument(\"-p\", \"--plot\", type=str, default=\"plot.png\", help=\"path to output loss/accuracy plot\")\n",
    "ap.add_argument(\"-m\", \"--model\", type=str, default=\"mask_detector.model\", help=\"path to output face mask detector model\")\n",
    "args = vars(ap.parse_args(\"\"))"
   ]
  },
  {
   "cell_type": "code",
   "execution_count": 21,
   "metadata": {},
   "outputs": [],
   "source": [
    "# initialize the initial learning rate, number of epochs to train for,\n",
    "# and batch size\n",
    "INIT_LR = 1e-4\n",
    "EPOCHS = 20\n",
    "BS = 32"
   ]
  },
  {
   "cell_type": "code",
   "execution_count": 22,
   "metadata": {},
   "outputs": [
    {
     "name": "stdout",
     "output_type": "stream",
     "text": [
      "[INFO] loading images...\n"
     ]
    }
   ],
   "source": [
    "# grab the list of images in our dataset directory, then initialize\n",
    "# the list of data (i.e., images) and class images\n",
    "print(\"[INFO] loading images...\")\n",
    "imagePaths = list(paths.list_images(args[\"dataset\"]))\n",
    "data = []\n",
    "labels = []\n",
    "# loop over the image paths\n",
    "for imagePath in imagePaths:\n",
    "\t# extract the class label from the filename\n",
    "\tlabel = imagePath.split(os.path.sep)[-2]\n",
    "    \n",
    "\t# load the input image (224x224) and preprocess it\n",
    "\timage = load_img(imagePath, target_size=(224, 224))\n",
    "\timage = img_to_array(image)\n",
    "\timage = preprocess_input(image)\n",
    "    \n",
    "\t# update the data and labels lists, respectively\n",
    "\tdata.append(image)\n",
    "\tlabels.append(label)\n",
    "    \n",
    "# convert the data and labels to NumPy arrays\n",
    "data = np.array(data, dtype=\"float32\")\n",
    "labels = np.array(labels)"
   ]
  },
  {
   "cell_type": "code",
   "execution_count": 23,
   "metadata": {},
   "outputs": [],
   "source": [
    "# perform one-hot encoding on the labels\n",
    "lb = LabelBinarizer()\n",
    "labels = lb.fit_transform(labels)\n",
    "labels = to_categorical(labels)\n",
    "\n",
    "# partition the data into training and testing splits using 80% of\n",
    "# the data for training and the remaining 20% for testing\n",
    "(trainX, testX, trainY, testY) = train_test_split(data, labels,\n",
    "\ttest_size=0.20, stratify=labels, random_state=42)\n",
    "\n",
    "# construct the training image generator for data augmentation\n",
    "aug = ImageDataGenerator(\n",
    "\trotation_range=20,\n",
    "\tzoom_range=0.15,\n",
    "\twidth_shift_range=0.2,\n",
    "\theight_shift_range=0.2,\n",
    "\tshear_range=0.15,\n",
    "\thorizontal_flip=True,\n",
    "\tfill_mode=\"nearest\")"
   ]
  },
  {
   "cell_type": "code",
   "execution_count": 25,
   "metadata": {},
   "outputs": [],
   "source": [
    "# load the MobileNetV2 network, ensuring the head FC layer sets are\n",
    "# left off\n",
    "baseModel = MobileNetV2(weights=\"imagenet\", include_top=False,\n",
    "\tinput_tensor=Input(shape=(224, 224, 3)))\n",
    "\n",
    "# construct the head of the model that will be placed on top of the\n",
    "# the base model\n",
    "headModel = baseModel.output\n",
    "headModel = AveragePooling2D(pool_size=(7, 7))(headModel)\n",
    "headModel = Flatten(name=\"flatten\")(headModel)\n",
    "headModel = Dense(128, activation=\"relu\")(headModel)\n",
    "headModel = Dropout(0.5)(headModel)\n",
    "headModel = Dense(2, activation=\"softmax\")(headModel)\n",
    "\n",
    "# place the head FC model on top of the base model (this will become\n",
    "# the actual model we will train)\n",
    "model = Model(inputs=baseModel.input, outputs=headModel)\n",
    "\n",
    "# loop over all layers in the base model and freeze them so they will\n",
    "# *not* be updated during the first training process\n",
    "for layer in baseModel.layers:\n",
    "\tlayer.trainable = False"
   ]
  },
  {
   "cell_type": "code",
   "execution_count": 26,
   "metadata": {},
   "outputs": [
    {
     "name": "stdout",
     "output_type": "stream",
     "text": [
      "[INFO] compiling model...\n",
      "[INFO] training head...\n",
      "WARNING:tensorflow:sample_weight modes were coerced from\n",
      "  ...\n",
      "    to  \n",
      "  ['...']\n",
      "Train for 34 steps, validate on 276 samples\n",
      "Epoch 1/20\n",
      "34/34 [==============================] - 119s 3s/step - loss: 0.6484 - accuracy: 0.6517 - val_loss: 0.3432 - val_accuracy: 0.8750\n",
      "Epoch 2/20\n",
      "34/34 [==============================] - 162s 5s/step - loss: 0.4206 - accuracy: 0.7959 - val_loss: 0.2798 - val_accuracy: 0.8789\n",
      "Epoch 3/20\n",
      "34/34 [==============================] - 164s 5s/step - loss: 0.3266 - accuracy: 0.8624 - val_loss: 0.1486 - val_accuracy: 0.9609\n",
      "Epoch 4/20\n",
      "34/34 [==============================] - 165s 5s/step - loss: 0.2526 - accuracy: 0.9017 - val_loss: 0.1236 - val_accuracy: 0.9688\n",
      "Epoch 5/20\n",
      "34/34 [==============================] - 158s 5s/step - loss: 0.2135 - accuracy: 0.9148 - val_loss: 0.1156 - val_accuracy: 0.9727\n",
      "Epoch 6/20\n",
      "34/34 [==============================] - 134s 4s/step - loss: 0.2060 - accuracy: 0.9260 - val_loss: 0.1068 - val_accuracy: 0.9727\n",
      "Epoch 7/20\n",
      "34/34 [==============================] - 125s 4s/step - loss: 0.1551 - accuracy: 0.9410 - val_loss: 0.0834 - val_accuracy: 0.9805\n",
      "Epoch 8/20\n",
      "34/34 [==============================] - 122s 4s/step - loss: 0.1694 - accuracy: 0.9326 - val_loss: 0.0737 - val_accuracy: 0.9805\n",
      "Epoch 9/20\n",
      "34/34 [==============================] - 123s 4s/step - loss: 0.1627 - accuracy: 0.9354 - val_loss: 0.0687 - val_accuracy: 0.9805\n",
      "Epoch 10/20\n",
      "34/34 [==============================] - 126s 4s/step - loss: 0.1446 - accuracy: 0.9401 - val_loss: 0.0653 - val_accuracy: 0.9766\n",
      "Epoch 11/20\n",
      "34/34 [==============================] - 135s 4s/step - loss: 0.1173 - accuracy: 0.9588 - val_loss: 0.0572 - val_accuracy: 0.9805\n",
      "Epoch 12/20\n",
      "34/34 [==============================] - 129s 4s/step - loss: 0.1321 - accuracy: 0.9448 - val_loss: 0.0519 - val_accuracy: 0.9844\n",
      "Epoch 13/20\n",
      "34/34 [==============================] - 130s 4s/step - loss: 0.1060 - accuracy: 0.9616 - val_loss: 0.0751 - val_accuracy: 0.9688\n",
      "Epoch 14/20\n",
      "34/34 [==============================] - 128s 4s/step - loss: 0.1193 - accuracy: 0.9504 - val_loss: 0.0535 - val_accuracy: 0.9805\n",
      "Epoch 15/20\n",
      "34/34 [==============================] - 129s 4s/step - loss: 0.1049 - accuracy: 0.9551 - val_loss: 0.0465 - val_accuracy: 0.9844\n",
      "Epoch 16/20\n",
      "34/34 [==============================] - 130s 4s/step - loss: 0.1074 - accuracy: 0.9569 - val_loss: 0.0461 - val_accuracy: 0.9844\n",
      "Epoch 17/20\n",
      "34/34 [==============================] - 169s 5s/step - loss: 0.0976 - accuracy: 0.9672 - val_loss: 0.0519 - val_accuracy: 0.9766\n",
      "Epoch 18/20\n",
      "34/34 [==============================] - 153s 4s/step - loss: 0.1047 - accuracy: 0.9625 - val_loss: 0.0493 - val_accuracy: 0.9766\n",
      "Epoch 19/20\n",
      "34/34 [==============================] - 200s 6s/step - loss: 0.0919 - accuracy: 0.9635 - val_loss: 0.0474 - val_accuracy: 0.9766\n",
      "Epoch 20/20\n",
      "34/34 [==============================] - 162s 5s/step - loss: 0.0778 - accuracy: 0.9710 - val_loss: 0.0371 - val_accuracy: 0.9961\n"
     ]
    }
   ],
   "source": [
    "# compile our model\n",
    "print(\"[INFO] compiling model...\")\n",
    "opt = Adam(lr=INIT_LR, decay=INIT_LR / EPOCHS)\n",
    "model.compile(loss=\"binary_crossentropy\", optimizer=opt,\n",
    "\tmetrics=[\"accuracy\"])\n",
    "\n",
    "# train the head of the network\n",
    "print(\"[INFO] training head...\")\n",
    "H = model.fit(\n",
    "\taug.flow(trainX, trainY, batch_size=BS),\n",
    "\tsteps_per_epoch=len(trainX) // BS,\n",
    "\tvalidation_data=(testX, testY),\n",
    "\tvalidation_steps=len(testX) // BS,\n",
    "\tepochs=EPOCHS)"
   ]
  },
  {
   "cell_type": "code",
   "execution_count": 27,
   "metadata": {},
   "outputs": [
    {
     "name": "stdout",
     "output_type": "stream",
     "text": [
      "[INFO] evaluating network...\n",
      "                      precision    recall  f1-score   support\n",
      "\n",
      "   dataset/with_mask       0.99      1.00      1.00       138\n",
      "dataset/without_mask       1.00      0.99      1.00       138\n",
      "\n",
      "            accuracy                           1.00       276\n",
      "           macro avg       1.00      1.00      1.00       276\n",
      "        weighted avg       1.00      1.00      1.00       276\n",
      "\n",
      "[INFO] saving mask detector model...\n"
     ]
    }
   ],
   "source": [
    "# make predictions on the testing set\n",
    "print(\"[INFO] evaluating network...\")\n",
    "predIdxs = model.predict(testX, batch_size=BS)\n",
    "\n",
    "# for each image in the testing set we need to find the index of the\n",
    "# label with corresponding largest predicted probability\n",
    "predIdxs = np.argmax(predIdxs, axis=1)\n",
    "\n",
    "# show a nicely formatted classification report\n",
    "print(classification_report(testY.argmax(axis=1), predIdxs,\n",
    "\ttarget_names=lb.classes_))\n",
    "\n",
    "# serialize the model to disk\n",
    "print(\"[INFO] saving mask detector model...\")\n",
    "model.save(args[\"model\"], save_format=\"h5\")"
   ]
  },
  {
   "cell_type": "code",
   "execution_count": 28,
   "metadata": {},
   "outputs": [
    {
     "data": {
      "image/png": "[encoded data removed]",
      "text/plain": [
       "<Figure size 432x288 with 1 Axes>"
      ]
     },
     "metadata": {},
     "output_type": "display_data"
    }
   ],
   "source": [
    "# plot the training loss and accuracy\n",
    "N = EPOCHS\n",
    "plt.style.use(\"ggplot\")\n",
    "plt.figure()\n",
    "plt.plot(np.arange(0, N), H.history[\"loss\"], label=\"train_loss\")\n",
    "plt.plot(np.arange(0, N), H.history[\"val_loss\"], label=\"val_loss\")\n",
    "plt.plot(np.arange(0, N), H.history[\"accuracy\"], label=\"train_acc\")\n",
    "plt.plot(np.arange(0, N), H.history[\"val_accuracy\"], label=\"val_acc\")\n",
    "plt.title(\"Training Loss and Accuracy\")\n",
    "plt.xlabel(\"Epoch #\")\n",
    "plt.ylabel(\"Loss/Accuracy\")\n",
    "plt.legend(loc=\"lower left\")\n",
    "plt.savefig(args[\"plot\"])"
   ]
  },
  {
   "cell_type": "code",
   "execution_count": null,
   "metadata": {},
   "outputs": [],
   "source": []
  }
 ],
 "metadata": {
  "kernelspec": {
   "display_name": "Python 3.7 (tensorflow)",
   "language": "python",
   "name": "tensorflow"
  },
  "language_info": {
   "codemirror_mode": {
    "name": "ipython",
    "version": 3
   },
   "file_extension": ".py",
   "mimetype": "text/x-python",
   "name": "python",
   "nbconvert_exporter": "python",
   "pygments_lexer": "ipython3",
   "version": "3.7.9"
  }
 },
 "nbformat": 4,
 "nbformat_minor": 4
}
